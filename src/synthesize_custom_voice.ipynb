{
 "cells": [
  {
   "cell_type": "markdown",
   "metadata": {},
   "source": [
    "# Synthesize Audio\n",
    "\n",
    "## Environment\n",
    "\n",
    "The sample is using key authentication and is loading the necessary information (api key, endpoint etc.) from a centralized configuration file.\n",
    "The configuration file is created using [setup.azcli](../setup/setup.azcli).\n"
   ]
  },
  {
   "cell_type": "code",
   "execution_count": 10,
   "metadata": {
    "dotnet_interactive": {
     "language": "csharp"
    },
    "polyglot_notebook": {
     "kernelName": "csharp"
    }
   },
   "outputs": [
    {
     "data": {
      "text/html": [
       "<div><div></div><div></div><div><strong>Installed Packages</strong><ul><li><span>DotNetEnv, 3.1.1</span></li><li><span>Microsoft.CognitiveServices.Speech, 1.43.0</span></li></ul></div></div>"
      ]
     },
     "metadata": {},
     "output_type": "display_data"
    },
    {
     "name": "stdout",
     "output_type": "stream",
     "text": [
      "Configuration loaded...\r\n"
     ]
    }
   ],
   "source": [
    "#r \"nuget: Microsoft.CognitiveServices.Speech, 1.43.0\"\n",
    "#r \"nuget: DotNetEnv, 3.1.1\"\n",
    "\n",
    "using DotNetEnv;\n",
    "using System.IO;\n",
    "using Microsoft.CognitiveServices.Speech;\n",
    "using Microsoft.CognitiveServices.Speech.Audio;\n",
    "\n",
    "string configurationFile = \"../config/config.env\";\n",
    "\n",
    "Env.Load(configurationFile);\n",
    "\n",
    "string apiKey = Env.GetString(\"CNV_SPEECH_APIKEY\");\n",
    "string region = Env.GetString(\"CNV_SPEECH_REGION\");\n",
    "string customModelEndpointId = Env.GetString(\"CNV_CUSTOMMODEL_ID\");\n",
    "string customSpeechSynthesisVoiceName = Env.GetString(\"CNV_CUSTOMMODEL_NAME\");\n",
    "\n",
    "Console.WriteLine($\"Configuration loaded...\");\n"
   ]
  },
  {
   "cell_type": "markdown",
   "metadata": {},
   "source": [
    "## Input / Output\n",
    "\n",
    "Text which should be synthesized is loaded from the [../assets/input](../assets/input/) folder.\n",
    "Output files are defined which are stored in [../assets/output](../assets/output/) folder."
   ]
  },
  {
   "cell_type": "code",
   "execution_count": null,
   "metadata": {
    "polyglot_notebook": {
     "kernelName": "csharp"
    }
   },
   "outputs": [
    {
     "name": "stdout",
     "output_type": "stream",
     "text": [
      "Text content loaded...\n",
      "Output audio files defied...\n"
     ]
    }
   ],
   "source": [
    "string inputTextFile = \"../assets/input/input_robert.txt\";\n",
    "string textContent = File.ReadAllText(inputTextFile);\n",
    "\n",
    "string outputAudioFile = \"../assets/output/output_robert.wav\";\n",
    "string outputAudioFileStream = \"../assets/output/output_robert_stream.wav\";\n",
    "\n",
    "Console.WriteLine($\"Text content loaded...\");\n",
    "Console.WriteLine($\"Output audio files defied...\");"
   ]
  },
  {
   "cell_type": "markdown",
   "metadata": {},
   "source": [
    "## Synthesize text\n",
    "\n",
    "A custom neural voice model is used to synthesize the provided text.\n"
   ]
  },
  {
   "cell_type": "code",
   "execution_count": 15,
   "metadata": {
    "polyglot_notebook": {
     "kernelName": "csharp"
    }
   },
   "outputs": [
    {
     "name": "stdout",
     "output_type": "stream",
     "text": [
      "Custom voice model: RobEichCNVLite-English...\r\n"
     ]
    }
   ],
   "source": [
    "SpeechConfig speechConfig = SpeechConfig.FromSubscription(apiKey, region);\n",
    "\n",
    "// custom voice model\n",
    "speechConfig.EndpointId = customModelEndpointId;\n",
    "speechConfig.SpeechSynthesisVoiceName = customSpeechSynthesisVoiceName;\n",
    "\n",
    "Console.WriteLine($\"Custom voice model: {speechConfig.SpeechSynthesisVoiceName}...\");"
   ]
  },
  {
   "cell_type": "markdown",
   "metadata": {},
   "source": [
    "### Batch\n",
    "\n",
    "File content is synthesized in one batch."
   ]
  },
  {
   "cell_type": "code",
   "execution_count": 16,
   "metadata": {
    "dotnet_interactive": {
     "language": "csharp"
    },
    "polyglot_notebook": {
     "kernelName": "csharp"
    }
   },
   "outputs": [
    {
     "name": "stdout",
     "output_type": "stream",
     "text": [
      "Speech synthesizing: SynthesizingAudioCompleted\n",
      "Audio file created: ../assets/output/output_robert.wav\n"
     ]
    }
   ],
   "source": [
    "using (AudioConfig audioConfig = AudioConfig.FromWavFileOutput(outputAudioFile)) {\n",
    "    using (SpeechSynthesizer speechSynthesizer = new SpeechSynthesizer(speechConfig, audioConfig)) {\n",
    "        using (SpeechSynthesisResult speechSynthesisResult = await speechSynthesizer.SpeakTextAsync(textContent)) {\n",
    "            if (speechSynthesisResult.Reason == ResultReason.SynthesizingAudioCompleted)\n",
    "            {\n",
    "                Console.WriteLine($\"Speech synthesizing: {speechSynthesisResult.Reason}\");\n",
    "            }\n",
    "        }    \n",
    "    };\n",
    "};\n",
    "\n",
    "Console.WriteLine($\"Audio file created: {outputAudioFile}\");"
   ]
  },
  {
   "cell_type": "markdown",
   "metadata": {},
   "source": [
    "### Stream\n",
    "\n",
    "Single lines (sentences) are synthesized."
   ]
  },
  {
   "cell_type": "code",
   "execution_count": 18,
   "metadata": {
    "polyglot_notebook": {
     "kernelName": "csharp"
    }
   },
   "outputs": [
    {
     "name": "stdout",
     "output_type": "stream",
     "text": [
      "Text from stream: Hello everyone,\n",
      "Text from stream: My name is Robert, \n",
      "Text from stream: and I am excited to welcome you to the key note of this exciting event!\n",
      "Audio file created: ../assets/output/output_robert_stream.wav\n"
     ]
    }
   ],
   "source": [
    "using (AudioConfig audioConfig = AudioConfig.FromWavFileOutput(outputAudioFileStream))\n",
    "using (SpeechSynthesizer speechSynthesizer = new SpeechSynthesizer(speechConfig, audioConfig)) {\n",
    "\n",
    "    TaskCompletionSource<bool> synthesisCompletionSource = new TaskCompletionSource<bool>();\n",
    "    speechSynthesizer.SynthesisCompleted += (s, e) =>\n",
    "    {\n",
    "        synthesisCompletionSource.TrySetResult(true);\n",
    "    };\n",
    "    speechSynthesizer.SynthesisCanceled += (s, e) =>\n",
    "    {\n",
    "        synthesisCompletionSource.TrySetResult(true);\n",
    "    };\n",
    "\n",
    "    using (MemoryStream memoryStream = new MemoryStream(Encoding.UTF8.GetBytes(textContent)))\n",
    "    using (StreamReader reader = new StreamReader(memoryStream))\n",
    "    {\n",
    "        string? textFromStream = \"---START---\";\n",
    "        while (!String.IsNullOrEmpty(textFromStream))\n",
    "        {\n",
    "            textFromStream = await reader.ReadLineAsync();\n",
    "            if (String.IsNullOrEmpty(textFromStream)) break;\n",
    "            \n",
    "            Console.WriteLine($\"Text from stream: {textFromStream}\");\n",
    "            await speechSynthesizer.StartSpeakingTextAsync(textFromStream);\n",
    "            \n",
    "            // Wait for the synthesis process to complete\n",
    "            bool synthesisSucceeded = await synthesisCompletionSource.Task;\n",
    "            if (!synthesisSucceeded)\n",
    "            {\n",
    "                Console.WriteLine(\"Synthesis failed or was canceled.\");\n",
    "                break;\n",
    "            }\n",
    "\n",
    "            // Reset the TaskCompletionSource for the next synthesis\n",
    "            synthesisCompletionSource = new TaskCompletionSource<bool>();\n",
    "\n",
    "        }\n",
    "    }\n",
    "}\n",
    "\n",
    "Console.WriteLine($\"Audio file created: {outputAudioFileStream}\");\n"
   ]
  }
 ],
 "metadata": {
  "kernelspec": {
   "display_name": ".NET (C#)",
   "language": "C#",
   "name": ".net-csharp"
  },
  "polyglot_notebook": {
   "kernelInfo": {
    "defaultKernelName": "csharp",
    "items": [
     {
      "aliases": [],
      "languageName": "csharp",
      "name": "csharp"
     }
    ]
   }
  }
 },
 "nbformat": 4,
 "nbformat_minor": 2
}
